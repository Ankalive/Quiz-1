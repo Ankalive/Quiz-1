{
 "cells": [
  {
   "cell_type": "markdown",
   "id": "1ca3637b",
   "metadata": {},
   "source": [
    "1 - Write python code which will ask a user their age as input and\n",
    "present the following output depending on the response:\n",
    "- If the age is < 2 – print “You are an infant”\n",
    "- If the age is 2-12 – print “You are a child”\n",
    "- If the age is 13-19 – print “You are a teen”\n",
    "- If the age is 20-59 – print “You are an adult”\n",
    "- If the age is 60-99 – print “You are a senior”\n",
    "- If the age is 100+ - print “Congratulations !!”\n",
    "In all cases print out a statement which says:\n",
    "- “You are n years into your age group”\n",
    "- “You have m years to go before the next age group” (except if\n",
    "input age is 100+)\n",
    "Where n and m are calculated based on the definitions above"
   ]
  },
  {
   "cell_type": "code",
   "execution_count": 20,
   "id": "c58bdc60",
   "metadata": {},
   "outputs": [
    {
     "name": "stdout",
     "output_type": "stream",
     "text": [
      "Enter your age23\n",
      "You are an adult\n",
      "You are 3 years into your age group\n",
      "You have 36 years to go before the next age group\n"
     ]
    }
   ],
   "source": [
    "age=int(input(\"Enter your age\"))\n",
    "if age < 2:\n",
    "    print(\"You are an infant\")\n",
    "    print(\"You are\", age-0 ,\"years into your age group\")\n",
    "    print(\"You have\",2-age ,\"years to go before the next age group\")\n",
    "elif age >= 2 and age <=12:\n",
    "    print(\"You are a child\")\n",
    "    print(\"You are\", age-2 ,\"years into your age group\")\n",
    "    print(\"You have\",12-age ,\"years to go before the next age group\")\n",
    "    \n",
    "elif age >=13 and age <= 19:\n",
    "    print(\"You are a teen\")\n",
    "    print(\"You are\", age-13 ,\"years into your age group\")\n",
    "    print(\"You have\",19-age ,\"years to go before the next age group\")\n",
    "\n",
    "elif age >=20 and age <= 59:\n",
    "    print(\"You are an adult\")\n",
    "    print(\"You are\", age-20 ,\"years into your age group\")\n",
    "    print(\"You have\",59-age ,\"years to go before the next age group\")\n",
    "\n",
    "elif age>=60 and age <=99:\n",
    "    print(\"You are a senior\")\n",
    "    print(\"You are\", age-60 ,\"years into your age group\")\n",
    "    print(\"You have\",99-age ,\"years to go before the next age group\")\n",
    "else:\n",
    "    print(\"Congratulations !!\")\n",
    "    print(\"You are\", age-100 ,\"years into your age group\")\n",
    "\n",
    "    "
   ]
  },
  {
   "cell_type": "markdown",
   "id": "bdda1d33",
   "metadata": {},
   "source": [
    "2-Write python code which will take the hello.txt file and open the\n",
    "file – read the file – reverse the entire file as shown – and save the\n",
    "reverse in a file called reverse.txt.\n",
    "hello.txt\n",
    "Hello and welcome to BDAT1004. We are learning Python and using it\n",
    "to manipulate text.\n",
    "reverse.txt\n",
    "text manipulate to it using and Python learning are We. BDAT1004 to\n",
    "welcome and Hello."
   ]
  },
  {
   "cell_type": "code",
   "execution_count": 26,
   "id": "6a8cd574",
   "metadata": {},
   "outputs": [],
   "source": [
    "f = open(\"hello.txt\", \"rb\")\n",
    "s = f.read()\n",
    "f.close()\n",
    "s = s.split()[::-1]\n",
    "f = open(\"reverse.txt\", \"wb\")\n",
    "f.write(b\" \".join(s))\n",
    "f.close()"
   ]
  },
  {
   "cell_type": "code",
   "execution_count": null,
   "id": "dc91644c",
   "metadata": {},
   "outputs": [],
   "source": []
  }
 ],
 "metadata": {
  "kernelspec": {
   "display_name": "Python 3 (ipykernel)",
   "language": "python",
   "name": "python3"
  },
  "language_info": {
   "codemirror_mode": {
    "name": "ipython",
    "version": 3
   },
   "file_extension": ".py",
   "mimetype": "text/x-python",
   "name": "python",
   "nbconvert_exporter": "python",
   "pygments_lexer": "ipython3",
   "version": "3.9.12"
  }
 },
 "nbformat": 4,
 "nbformat_minor": 5
}
